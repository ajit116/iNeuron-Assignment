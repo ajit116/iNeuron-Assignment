{
 "cells": [
  {
   "cell_type": "markdown",
   "metadata": {},
   "source": [
    "Q1. Write a Python program to get the string from the given string where\n",
    "all the occurrence of its first char has been changed to '$,' except first\n",
    "char itself?\n",
    "\n",
    "    Sample String: 'prospect'\n",
    "    Expected Result : 'pros$ect'\n"
   ]
  },
  {
   "cell_type": "code",
   "execution_count": 1,
   "metadata": {},
   "outputs": [
    {
     "data": {
      "text/plain": [
       "'pros$ect'"
      ]
     },
     "execution_count": 1,
     "metadata": {},
     "output_type": "execute_result"
    }
   ],
   "source": [
    "def change_char(strin):\n",
    "    val = strin[0]\n",
    "    res = strin[1:].replace(val,'$')\n",
    "    return val+res\n",
    "\n",
    "change_char('prospect')            "
   ]
  },
  {
   "cell_type": "markdown",
   "metadata": {},
   "source": [
    "Q2. Write a Python program to get the single string from the two given\n",
    "strings, and separated by the space and swap the first two characters of\n",
    "each string?\n",
    "\n",
    "    Sample String : 'abc', 'xyz'.\n",
    "    Expected Result: 'xyc abz'"
   ]
  },
  {
   "cell_type": "code",
   "execution_count": 2,
   "metadata": {},
   "outputs": [
    {
     "data": {
      "text/plain": [
       "'xyc abz'"
      ]
     },
     "execution_count": 2,
     "metadata": {},
     "output_type": "execute_result"
    }
   ],
   "source": [
    "def merge_str(str1, str2):\n",
    "    new_str1 = str2[:2] + str1[2:]\n",
    "    new_str2 = str1[:2] + str2[2:]\n",
    "    return new_str1 + ' ' + new_str2\n",
    "\n",
    "merge_str('abc', 'xyz')    "
   ]
  },
  {
   "cell_type": "markdown",
   "metadata": {},
   "source": [
    "Q3. Write the Python program to add 'ing' at the end of the given string\n",
    "(length of the string should be at least 3). If given string already ends\n",
    "with 'ing,' then add 'ly' instead. If string length of the given string is less\n",
    "than 3, leave it unchanged?\n",
    "\n",
    "\n",
    "    Sample string: ' abc '\n",
    "    Expected result: ' abcing '\n",
    "    Sample string: ' string '\n",
    "    Expected result: ' stringly '\n"
   ]
  },
  {
   "cell_type": "code",
   "execution_count": 3,
   "metadata": {},
   "outputs": [
    {
     "name": "stdout",
     "output_type": "stream",
     "text": [
      "abcing\n",
      "stringly\n"
     ]
    }
   ],
   "source": [
    "def add_str(str1):\n",
    "    length = len(str1)\n",
    "    if length >= 3:\n",
    "        if str1[-3:] == 'ing':\n",
    "            str1 += 'ly'\n",
    "        else:\n",
    "            str1 += 'ing'\n",
    "    return str1\n",
    "\n",
    "\n",
    "print(add_str('abc'))\n",
    "print(add_str('string'))"
   ]
  },
  {
   "cell_type": "markdown",
   "metadata": {},
   "source": [
    "Q4. Write the Python program to find the first appearance of the\n",
    "substring 'not' and 'poor' from the given string, if 'not' follows the 'poor',\n",
    "replace the whole 'not'...' poor' substring with 'good'.Return the resulting\n",
    "string.\n",
    "\n",
    "    Sample string: 'The lyrics are not that poor!'\n",
    "    'The lyrics are poor!'\n",
    "    Expected Result: 'The lyrics are good!'\n",
    "    'The lyrics are poor!'"
   ]
  },
  {
   "cell_type": "code",
   "execution_count": 4,
   "metadata": {},
   "outputs": [
    {
     "name": "stdout",
     "output_type": "stream",
     "text": [
      "The lyrics are good!\n",
      "The lyrics are poor!\n"
     ]
    }
   ],
   "source": [
    "def rep_not_poor(strin):\n",
    "    str_not = strin.find('not')\n",
    "    str_poor = strin.find('poor')\n",
    "    if (str_not>0) and (str_poor>0) and (str_poor > str_not):\n",
    "        strin = strin.replace(strin[str_not:(str_poor+4)], 'good')\n",
    "        return strin\n",
    "    else:\n",
    "        return strin\n",
    "    \n",
    "    \n",
    "print(rep_not_poor('The lyrics are not that poor!'))\n",
    "print(rep_not_poor('The lyrics are poor!'))"
   ]
  },
  {
   "cell_type": "markdown",
   "metadata": {},
   "source": [
    "Q5. Write the Python program to remove the characters which have odd\n",
    "index values of a given string."
   ]
  },
  {
   "cell_type": "code",
   "execution_count": 5,
   "metadata": {},
   "outputs": [
    {
     "data": {
      "text/plain": [
       "'iern'"
      ]
     },
     "execution_count": 5,
     "metadata": {},
     "output_type": "execute_result"
    }
   ],
   "source": [
    "def odd_out(strin):\n",
    "    res = '' \n",
    "    length = len(strin)\n",
    "    for i in range(length):\n",
    "        if i % 2 == 0:\n",
    "            res = res + strin[i]\n",
    "    return res\n",
    "\n",
    "\n",
    "odd_out('iNeuron')"
   ]
  },
  {
   "cell_type": "markdown",
   "metadata": {},
   "source": [
    "Q6. Write the python program to print the following floating numbers up\n",
    "to 2 decimal places?"
   ]
  },
  {
   "cell_type": "code",
   "execution_count": 6,
   "metadata": {},
   "outputs": [
    {
     "data": {
      "text/plain": [
       "'1.41'"
      ]
     },
     "execution_count": 6,
     "metadata": {},
     "output_type": "execute_result"
    }
   ],
   "source": [
    "def float_val(a):\n",
    "    return \"{:.2f}\".format(a)\n",
    "\n",
    "float_val(1.414)"
   ]
  },
  {
   "cell_type": "markdown",
   "metadata": {},
   "source": [
    "Q7. Write the Python program to format a number with a percentage?"
   ]
  },
  {
   "cell_type": "code",
   "execution_count": 7,
   "metadata": {},
   "outputs": [
    {
     "data": {
      "text/plain": [
       "'100.00%'"
      ]
     },
     "execution_count": 7,
     "metadata": {},
     "output_type": "execute_result"
    }
   ],
   "source": [
    "def percent_val(a):\n",
    "    return '{:.2%}'.format(a)\n",
    "\n",
    "percent_val(1)"
   ]
  },
  {
   "cell_type": "markdown",
   "metadata": {},
   "source": [
    "Q8. Write the Python program to count occurrences of a substring in a\n",
    "String?"
   ]
  },
  {
   "cell_type": "code",
   "execution_count": 8,
   "metadata": {},
   "outputs": [
    {
     "data": {
      "text/plain": [
       "3"
      ]
     },
     "execution_count": 8,
     "metadata": {},
     "output_type": "execute_result"
    }
   ],
   "source": [
    "def count_occ(strin, substr):\n",
    "    return strin.count(substr)\n",
    "\n",
    "count_occ('Ram shyam Parshuram', 'am')"
   ]
  },
  {
   "cell_type": "markdown",
   "metadata": {},
   "source": [
    "Q9. Write the Python program to count repeated characters in a string.\n",
    "\n",
    "    Sample string: ' thequickbrownjumpsoverthelazydog '\n",
    "    \n",
    "    Expected output:\n",
    "    o 3\n",
    "    e 3\n",
    "    u 2\n",
    "    h 2\n",
    "    r 2\n",
    "    t 2"
   ]
  },
  {
   "cell_type": "code",
   "execution_count": 9,
   "metadata": {},
   "outputs": [
    {
     "name": "stdout",
     "output_type": "stream",
     "text": [
      "e 3\n",
      "o 3\n",
      "t 2\n",
      "h 2\n",
      "u 2\n",
      "r 2\n"
     ]
    }
   ],
   "source": [
    "from collections import Counter\n",
    "a='thequickbrownjumpsoverthelazydog'\n",
    "di = Counter(a)\n",
    "for ch in sorted(di, key=di.get, reverse=True):\n",
    "    if di[ch]> 1:\n",
    "        print(ch, di[ch])"
   ]
  },
  {
   "cell_type": "markdown",
   "metadata": {},
   "source": [
    "Q10. Write the Python program to print the square and cube symbol in\n",
    "the area of a rectangle and volume of a cylinder?\n",
    "\n",
    "    Sample outputThe area of the rectangle is 1256.66cm2\n",
    "    The volume of the cylinder is 1254.725cm3\n"
   ]
  },
  {
   "cell_type": "code",
   "execution_count": 10,
   "metadata": {},
   "outputs": [
    {
     "name": "stdout",
     "output_type": "stream",
     "text": [
      "The area of the rectangle is 111.11cm²\n",
      "The volume of the cylinder is 222.220cm³\n"
     ]
    }
   ],
   "source": [
    "area = 111.11\n",
    "volume = 222.22\n",
    "sqr = 2\n",
    "cub = 3\n",
    "print(\"The area of the rectangle is {0:.{1}f}cm\\u00b2\".format(area, sqr))\n",
    "print(\"The volume of the cylinder is {0:.{1}f}cm\\u00b3\".format(volume, cub))\n"
   ]
  },
  {
   "cell_type": "markdown",
   "metadata": {},
   "source": [
    "Q11. Write the Python program to check if a string contains all letters of\n",
    "the alphabet?"
   ]
  },
  {
   "cell_type": "code",
   "execution_count": 11,
   "metadata": {},
   "outputs": [
    {
     "data": {
      "text/plain": [
       "True"
      ]
     },
     "execution_count": 11,
     "metadata": {},
     "output_type": "execute_result"
    }
   ],
   "source": [
    "import string\n",
    "def all_letters(strin):\n",
    "    alphabets = set(string.ascii_lowercase)\n",
    "    return (set(strin.lower()) >= alphabets)\n",
    "\n",
    "all_letters('The quick brown fox jumps over the lazy dog')"
   ]
  },
  {
   "cell_type": "markdown",
   "metadata": {},
   "source": [
    "Q12. Write the Python program to find the second most repeated word\n",
    "in a given string?"
   ]
  },
  {
   "cell_type": "code",
   "execution_count": 12,
   "metadata": {},
   "outputs": [
    {
     "name": "stdout",
     "output_type": "stream",
     "text": [
      "ma\n"
     ]
    }
   ],
   "source": [
    "def sec_max(strin):\n",
    "    val = dict()\n",
    "    words = strin.split()\n",
    "    for word in words:\n",
    "        if word in val:\n",
    "            val[word] += 1\n",
    "        else:\n",
    "            val[word] = 1\n",
    "    val= sorted(val, key=val.get, reverse=True)\n",
    "    return val[1]\n",
    " \n",
    "print(sec_max(\"sa re ga ma ma sa sa\"))"
   ]
  },
  {
   "cell_type": "markdown",
   "metadata": {},
   "source": [
    "Q13. Write the Python program to find the minimum window in the given\n",
    "string, which will contains all the characters of another given\n",
    "strings?\n",
    "\n",
    "    Example 1\n",
    "    Input : string1 = \" PRWSOERIUSFK \"\n",
    "    string2 = \" OSU \"\n",
    "    Output: Minimum window is \"OERIUS\""
   ]
  },
  {
   "cell_type": "code",
   "execution_count": 13,
   "metadata": {},
   "outputs": [
    {
     "name": "stdout",
     "output_type": "stream",
     "text": [
      "OERIUS\n"
     ]
    }
   ],
   "source": [
    "import collections\n",
    "def min_win(str1, str2):\n",
    "    res, miss = collections.Counter(str2), len(str2)\n",
    "    i = p = q = 0\n",
    "    for j, c in enumerate(str1, 1):\n",
    "        miss -= res[c] > 0\n",
    "        res[c] -= 1\n",
    "        if not miss:\n",
    "            while i < q and res[str1[i]] < 0:\n",
    "                res[str1[i]] += 1\n",
    "                i += 1\n",
    "            if not q or j - i <= q - p:\n",
    "                p, q = i, j\n",
    "    return str1[p:q]\n",
    "           \n",
    "print(min_win(\"PRWSOERIUSFK\",\"OSU\"))"
   ]
  },
  {
   "cell_type": "markdown",
   "metadata": {},
   "source": [
    "Q14. Write the Python program to count number of substrings from a\n",
    "given string of lowercase alphabets with exactly k distinct (given)\n",
    "characters?\n",
    "\n",
    "    Input a string (lowercase alphabets): wolf\n",
    "    Input k: 4\n",
    "    Number of substrings with exactly 4 distinct characters: 1"
   ]
  },
  {
   "cell_type": "code",
   "execution_count": 14,
   "metadata": {},
   "outputs": [
    {
     "data": {
      "text/plain": [
       "1"
      ]
     },
     "execution_count": 14,
     "metadata": {},
     "output_type": "execute_result"
    }
   ],
   "source": [
    "def substr(strin, k): \n",
    "    str_len = len(strin) \n",
    "    ans = 0\n",
    "    alph = [0] * 27\n",
    "    for i in range(0, str_len): \n",
    "        dist_ctr = 0\n",
    "        alph = [0] * 27\n",
    "        for j in range(i, str_len): \n",
    "            if(alph[ord(strin[j]) - 97] == 0): \n",
    "                dist_ctr += 1\n",
    "            alph[ord(strin[j]) - 97] += 1\n",
    "            if(dist_ctr == k): \n",
    "                ans += 1\n",
    "            if(dist_ctr > k): \n",
    "                break\n",
    "    return ans \n",
    "\n",
    "substr('wolf',4)"
   ]
  },
  {
   "cell_type": "markdown",
   "metadata": {},
   "source": [
    "Q15. Write the Python program to count number of substrings with same\n",
    "first and last characters of the given string?\n",
    "\n",
    "    Input a string: abcd\n",
    "    4\n"
   ]
  },
  {
   "cell_type": "code",
   "execution_count": 15,
   "metadata": {},
   "outputs": [
    {
     "data": {
      "text/plain": [
       "4"
      ]
     },
     "execution_count": 15,
     "metadata": {},
     "output_type": "execute_result"
    }
   ],
   "source": [
    "def substr(strin):\n",
    "    res = 0; \n",
    "    length = len(strin); \n",
    "    for i in range(length): \n",
    "        for j in range(i, length): \n",
    "            if (strin[i] == strin[j]): \n",
    "                res += 1\n",
    "    return res \n",
    "strin = \"abcd\"\n",
    "substr(strin)"
   ]
  },
  {
   "cell_type": "markdown",
   "metadata": {},
   "source": [
    "## Great Job!"
   ]
  }
 ],
 "metadata": {
  "kernelspec": {
   "display_name": "Python 3",
   "language": "python",
   "name": "python3"
  },
  "language_info": {
   "codemirror_mode": {
    "name": "ipython",
    "version": 3
   },
   "file_extension": ".py",
   "mimetype": "text/x-python",
   "name": "python",
   "nbconvert_exporter": "python",
   "pygments_lexer": "ipython3",
   "version": "3.6.6"
  }
 },
 "nbformat": 4,
 "nbformat_minor": 2
}
